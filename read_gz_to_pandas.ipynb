{
 "cells": [
  {
   "cell_type": "code",
   "execution_count": null,
   "metadata": {},
   "outputs": [],
   "source": [
    "# 📦 Carga de librerías\n",
    "import os\n",
    "import pandas as pd\n",
    "\n",
    "# ⚙️ Función para cargar archivos .json.gz\n",
    "def load_json_gz_to_dataframe(input_dir, max_files=1):\n",
    "    \"\"\"\n",
    "    Carga hasta 'max_files' archivos .json.gz desde 'input_dir' en un solo DataFrame.\n",
    "    \"\"\"\n",
    "    dataframes = []\n",
    "    count = 0\n",
    "\n",
    "    for root, _, files in os.walk(input_dir):\n",
    "        for file_name in sorted(files):  # ordena para consistencia\n",
    "            if file_name.endswith('.json.gz'):\n",
    "                file_path = os.path.join(root, file_name)\n",
    "                try:\n",
    "                    df = pd.read_json(file_path, lines=True, compression='gzip')\n",
    "                    dataframes.append(df)\n",
    "                    count += 1\n",
    "                    print(f\"✅ Cargado: {file_path} ({len(df)} filas)\")\n",
    "                    if count >= max_files:\n",
    "                        break\n",
    "                except Exception as e:\n",
    "                    print(f\"❌ Error leyendo {file_path}: {e}\")\n",
    "        if count >= max_files:\n",
    "            break\n",
    "\n",
    "    if dataframes:\n",
    "        combined_df = pd.concat(dataframes, ignore_index=True)\n",
    "        print(f\"\\n🔢 DataFrame combinado: {combined_df.shape[0]} filas, {combined_df.shape[1]} columnas\")\n",
    "        return combined_df\n",
    "    else:\n",
    "        print(\"⚠️ No se encontraron archivos válidos.\")\n",
    "        return None\n",
    "    \n",
    "    # 📁 Directorio de entrada (ajústalo si es necesario)\n",
    "input_dir = \"gharchive_data\"  # carpeta donde guardaste los .json.gz\n",
    "\n",
    "# 📌 Cargar máximo 1 archivo por defecto\n",
    "df = load_json_gz_to_dataframe(input_dir, max_files=1)\n"
   ]
  },
  {
   "cell_type": "code",
   "execution_count": null,
   "metadata": {},
   "outputs": [],
   "source": [
    "# 🔍 Vista rápida de las columnas disponibles\n",
    "if df is not None:\n",
    "    df.info()\n",
    "    df.head()"
   ]
  }
 ],
 "metadata": {
  "language_info": {
   "name": "python"
  }
 },
 "nbformat": 4,
 "nbformat_minor": 2
}
