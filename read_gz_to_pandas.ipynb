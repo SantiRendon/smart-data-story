{
 "cells": [
  {
   "cell_type": "markdown",
   "metadata": {},
   "source": [
    "# Cargar archivos .json.gz a un DataFrame\n",
    "Selecciona cuántos archivos quieres cargar (por defecto 1)."
   ]
  },
  {
   "cell_type": "code",
   "execution_count": null,
   "metadata": {},
   "outputs": [],
   "source": [
    "import os\n",
    "import pandas as pd\n",
    "from ipywidgets import interact, IntSlider\n",
    "\n",
    "input_dir = 'gharchive_data'\n",
    "\n",
    "# Listar todos los archivos .json.gz disponibles\n",
    "all_files = []\n",
    "for root, _, files in os.walk(input_dir):\n",
    "    for file_name in files:\n",
    "        if file_name.endswith('.json.gz'):\n",
    "            all_files.append(os.path.join(root, file_name))\n",
    "\n",
    "all_files.sort()  # Opcional: para orden cronológico o alfabético\n",
    "total_files = len(all_files)\n",
    "print(f\"Archivos encontrados: {total_files}\")"
   ]
  },
  {
   "cell_type": "code",
   "execution_count": null,
   "metadata": {},
   "outputs": [],
   "source": [
    "def cargar_archivos(n_archivos=1):\n",
    "    selected_files = all_files[:n_archivos]\n",
    "    dataframes = []\n",
    "    for file_path in selected_files:\n",
    "        try:\n",
    "            df = pd.read_json(file_path, lines=True, compression='gzip')\n",
    "            dataframes.append(df)\n",
    "            print(f\"✅ Cargado: {file_path} ({len(df)} filas)\")\n",
    "        except Exception as e:\n",
    "            print(f\"❌ Error leyendo {file_path}: {e}\")\n",
    "    if dataframes:\n",
    "        combined_df = pd.concat(dataframes, ignore_index=True)\n",
    "        print(\"🔢 DataFrame combinado:\")\n",
    "        display(combined_df.head())\n",
    "        return combined_df\n",
    "    else:\n",
    "        print(\"No se encontraron archivos .json.gz.\")\n",
    "        return None"
   ]
  },
  {
   "cell_type": "code",
   "execution_count": null,
   "metadata": {},
   "outputs": [],
   "source": [
    "interact(cargar_archivos, n_archivos=IntSlider(min=1, max=total_files, step=1, value=1, description='Archivos'))"
   ]
  }
 ],
 "metadata": {
  "kernelspec": {
   "display_name": "Python 3",
   "language": "python",
   "name": "python3"
  },
  "language_info": {
   "name": "python",
   "version": "3.12.4"
  }
 },
 "nbformat": 4,
 "nbformat_minor": 2
}
